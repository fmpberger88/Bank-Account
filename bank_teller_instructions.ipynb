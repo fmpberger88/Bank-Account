{
 "cells": [
  {
   "cell_type": "markdown",
   "metadata": {},
   "source": [
    "# Bank Teller\n"
   ]
  },
  {
   "cell_type": "markdown",
   "metadata": {},
   "source": [
    "In this project you will be implementing code that emulates transactions performed between a bank-teller and a customer. "
   ]
  },
  {
   "cell_type": "markdown",
   "metadata": {},
   "source": [
    "The prerequisites for this project are Python 3 syntax, functions and control flow. Let's jump right into it!"
   ]
  },
  {
   "cell_type": "markdown",
   "metadata": {},
   "source": [
    "### 1. Initializing savings and checking account values. \n",
    "\n",
    "Creates two variables, one named `checking_balance` and the other `savings_balance`. Assign them both the value of zero. Use these as your starting bank balances."
   ]
  },
  {
   "cell_type": "code",
   "execution_count": 179,
   "metadata": {
    "ExecuteTime": {
     "start_time": "2023-04-11T21:45:42.640628Z",
     "end_time": "2023-04-11T21:45:42.832420Z"
    }
   },
   "outputs": [],
   "source": [
    "checking_balance = 0\n",
    "savings_balance = 0"
   ]
  },
  {
   "cell_type": "markdown",
   "metadata": {},
   "source": [
    "### 2. Create a function to check the Balance\n",
    "\n",
    "##### step 1. Check account_type and return the respective balance\n"
   ]
  },
  {
   "cell_type": "code",
   "execution_count": 180,
   "metadata": {
    "ExecuteTime": {
     "start_time": "2023-04-11T21:45:42.651353Z",
     "end_time": "2023-04-11T21:45:42.832420Z"
    }
   },
   "outputs": [],
   "source": [
    "def check_balance(account_type, checking_balance, savings_balance):\n",
    "    balance = None\n",
    "    if account_type == \"savings\":\n",
    "        balance = savings_balance\n",
    "    elif account_type == \"checking\":\n",
    "        balance = checking_balance\n",
    "    else:\n",
    "        raise ValueError(\"Unsuccessful, please enter\\\"checking\\\" or \\\"savings\\\"\")\n",
    "    balance_statement = \"Your \" + account_type + \" balance is \" + str(balance)\n",
    "    return balance_statement\n",
    "\n"
   ]
  },
  {
   "cell_type": "markdown",
   "metadata": {},
   "source": [
    "### 3. Calling and Printing the check_balance() function"
   ]
  },
  {
   "cell_type": "markdown",
   "source": [],
   "metadata": {
    "collapsed": false
   }
  },
  {
   "cell_type": "code",
   "execution_count": 182,
   "metadata": {
    "ExecuteTime": {
     "start_time": "2023-04-11T20:51:40.537890Z",
     "end_time": "2023-04-11T20:51:40.538899Z"
    }
   },
   "outputs": [
    {
     "name": "stdout",
     "output_type": "stream",
     "text": [
      "Your savings balance is 0\n",
      "Your checking balance is 0\n"
     ]
    },
    {
     "ename": "ValueError",
     "evalue": "Unsuccessful, please enter\"checking\" or \"savings\"",
     "output_type": "error",
     "traceback": [
      "\u001B[1;31m---------------------------------------------------------------------------\u001B[0m",
      "\u001B[1;31mValueError\u001B[0m                                Traceback (most recent call last)",
      "Cell \u001B[1;32mIn[182], line 3\u001B[0m\n\u001B[0;32m      1\u001B[0m \u001B[38;5;28mprint\u001B[39m(check_balance(\u001B[38;5;124m\"\u001B[39m\u001B[38;5;124msavings\u001B[39m\u001B[38;5;124m\"\u001B[39m, checking_balance, savings_balance))\n\u001B[0;32m      2\u001B[0m \u001B[38;5;28mprint\u001B[39m(check_balance(\u001B[38;5;124m\"\u001B[39m\u001B[38;5;124mchecking\u001B[39m\u001B[38;5;124m\"\u001B[39m, checking_balance, savings_balance))\n\u001B[1;32m----> 3\u001B[0m \u001B[38;5;28mprint\u001B[39m(check_balance(\u001B[38;5;124m\"\u001B[39m\u001B[38;5;124msave\u001B[39m\u001B[38;5;124m\"\u001B[39m, checking_balance, savings_balance))\n",
      "Cell \u001B[1;32mIn[180], line 8\u001B[0m, in \u001B[0;36mcheck_balance\u001B[1;34m(account_type, checking_balance, savings_balance)\u001B[0m\n\u001B[0;32m      6\u001B[0m     balance \u001B[38;5;241m=\u001B[39m checking_balance\n\u001B[0;32m      7\u001B[0m \u001B[38;5;28;01melse\u001B[39;00m:\n\u001B[1;32m----> 8\u001B[0m     \u001B[38;5;28;01mraise\u001B[39;00m \u001B[38;5;167;01mValueError\u001B[39;00m(\u001B[38;5;124m\"\u001B[39m\u001B[38;5;124mUnsuccessful, please enter\u001B[39m\u001B[38;5;130;01m\\\"\u001B[39;00m\u001B[38;5;124mchecking\u001B[39m\u001B[38;5;130;01m\\\"\u001B[39;00m\u001B[38;5;124m or \u001B[39m\u001B[38;5;130;01m\\\"\u001B[39;00m\u001B[38;5;124msavings\u001B[39m\u001B[38;5;130;01m\\\"\u001B[39;00m\u001B[38;5;124m\"\u001B[39m)\n\u001B[0;32m      9\u001B[0m balance_statement \u001B[38;5;241m=\u001B[39m \u001B[38;5;124m\"\u001B[39m\u001B[38;5;124mYour \u001B[39m\u001B[38;5;124m\"\u001B[39m \u001B[38;5;241m+\u001B[39m account_type \u001B[38;5;241m+\u001B[39m \u001B[38;5;124m\"\u001B[39m\u001B[38;5;124m balance is \u001B[39m\u001B[38;5;124m\"\u001B[39m \u001B[38;5;241m+\u001B[39m \u001B[38;5;28mstr\u001B[39m(balance)\n\u001B[0;32m     10\u001B[0m \u001B[38;5;28;01mreturn\u001B[39;00m balance_statement\n",
      "\u001B[1;31mValueError\u001B[0m: Unsuccessful, please enter\"checking\" or \"savings\""
     ]
    }
   ],
   "source": [
    "print(check_balance(\"savings\", checking_balance, savings_balance))\n",
    "print(check_balance(\"checking\", checking_balance, savings_balance))\n",
    "print(check_balance(\"save\", checking_balance, savings_balance))"
   ]
  },
  {
   "cell_type": "markdown",
   "source": [
    "### 5. Create a function to make a deposit"
   ],
   "metadata": {
    "collapsed": false
   }
  },
  {
   "cell_type": "code",
   "execution_count": null,
   "outputs": [],
   "source": [
    "def make_deposit(account_type, amount, checking_balance, savings_balance):\n",
    "    deposit_status = \"\"\n",
    "    updated_balance = 0\n",
    "    if amount > 0:\n",
    "        if account_type == \"checking\":\n",
    "            checking_balance += amount\n",
    "            updated_balance = checking_balance\n",
    "            deposit_status = \"successful\"\n",
    "        elif account_type == \"savings\":\n",
    "            savings_balance += amount\n",
    "            updated_balance = savings_balance\n",
    "            deposit_status = \"successful\"\n",
    "        else: raise ValueError(\"Unsuccessful, please enter\\\"checking\\\" or \\\"savings\\\"\")\n",
    "    else:\n",
    "        deposit_status = \"unsuccessful, please enter an amount greater than 0\"\n",
    "\n",
    "    deposit_statement = \"Deposit of \"+ str(amount) + \" dollars to your \" + account_type + \" account was \" + deposit_status + \".\"\n",
    "    print(deposit_statement)\n",
    "\n",
    "    return updated_balance"
   ],
   "metadata": {
    "collapsed": false
   }
  },
  {
   "cell_type": "markdown",
   "metadata": {},
   "source": [
    "### 6. Call deposit function"
   ]
  },
  {
   "cell_type": "code",
   "execution_count": 183,
   "metadata": {
    "ExecuteTime": {
     "start_time": "2023-04-11T21:45:59.020237Z",
     "end_time": "2023-04-11T21:45:59.020237Z"
    }
   },
   "outputs": [
    {
     "name": "stdout",
     "output_type": "stream",
     "text": [
      "Deposit of 10 dollars to your savings account was successful.\n",
      "Deposit of 20 dollars to your checking account was successful.\n",
      "10\n"
     ]
    }
   ],
   "source": [
    "savings_balance = make_deposit(\"savings\", 10, checking_balance, savings_balance) # add 10 to savings_balance, print \"Successful\"\n",
    "checking_balance = make_deposit(\"checking\", 20, checking_balance, savings_balance) # add 20 to checking_balance, print \"Successful\"\n",
    "print(savings_balance)"
   ]
  },
  {
   "cell_type": "markdown",
   "metadata": {},
   "source": [
    "### 7. Print savings balance call after making a savings deposit\n",
    "\n",
    "Now that a deposit has been made to the savings account, print your savings balance. Call the `check_balance()` function with these arguments; `\"savings\"`, `checking_balance` and `savings_balance` within a print function. Your new savings balance should print."
   ]
  },
  {
   "cell_type": "code",
   "execution_count": 185,
   "outputs": [
    {
     "name": "stdout",
     "output_type": "stream",
     "text": [
      "Your savings balance is 10\n",
      "Your checking balance is 20\n"
     ]
    }
   ],
   "source": [
    "print(check_balance(\"savings\",checking_balance,savings_balance))\n",
    "print(check_balance(\"checking\",checking_balance,savings_balance))"
   ],
   "metadata": {
    "collapsed": false,
    "ExecuteTime": {
     "start_time": "2023-04-11T21:47:26.819200Z",
     "end_time": "2023-04-11T21:47:26.845415Z"
    }
   }
  },
  {
   "cell_type": "markdown",
   "metadata": {},
   "source": [
    "### 10. Create a function to make a withdrawal\n",
    "\n",
    "##### step 1. define function\n",
    "Define a function named `make_withdrawal()` that accepts four parameters `account_type`, `amount`, `checking_balance` and `savings_balance`. The `amount` represents the withdrawal amount. \n",
    "\n",
    "##### step 2. Initialize withdrawal_status variable\n",
    "Inside the withdrawal function, start by creating a variable named `withdrawal_status` and assign it to an empty string. \n",
    "\n",
    "##### step 3. Initialize an error message\n",
    "On the next line create a variable named `fail` and assign it to the value `\"unsuccessful, please enter amount less than balance\"` \n",
    "\n",
    "##### step 4. Checking account_type\n",
    "Write `if...elif...else` statements. Within each if statement check whether the `account_type` is equivalent to `savings_balance` or `checking_balance`. If neither, throw an error in the else statement.\n",
    "\n",
    "##### step 5. Withdrawal from savings account\n",
    "The first `if` statement should check whether `account_type` is equivalent to `\"savings\"`. \n",
    "\n",
    "##### step 6. Ensure withdrawal is less than savings account\n",
    "Then write an inner `if...else` that checks if the withdrawal amount is greater than the savings balance. If the amount is indeed greater, in the else statement, assign `withdrawal_status` to the variable `fail`.\n",
    "\n",
    "##### step 7. Subtract amount from savings account\n",
    "Within the inner `if` statement, subtract `amount` from the `savings_balance` using the `-=` assignment operator. On the next line assign the string value `\"successful\"` to the variable `withdrawal_status`. \n",
    "\n",
    "##### step 8. Withdrawal from checking account\n",
    "The next `elif` statement should check whether `account_type` is equivalent to `\"checking\"`. \n",
    "\n",
    "##### step 9. Ensure withdrawal is less than checking account\n",
    "Then write an inner `if...else` that checks if the withdrawal amount is greater than the checking balance. If the amount is indeed greater, in the else statement, assign `withdrawal_status` to the variable `fail`.\n",
    "\n",
    "##### step 10. Subtract amount from checking account\n",
    "Within the inner `if` statement, subtract `amount` from the `checking_balance` using the `-=` assignment operator. On the next line assign the string value `\"successful\"` to the variable `withdrawal_status`. \n",
    "\n",
    "##### step 11. Assign an error statement if there are no matching account_type\n",
    "Within the last `else` statement, assign the string value `\"unsuccessful, please enter \\\"checking\\\" or \\\"savings\\\"\"` to the variable `withdrawal_status`.\n",
    "\n",
    "##### step 12. Create a withdrawal statement\n",
    "Outside of all the `if` statements but still in the function, create a statement composing of strings and variables used in this function. Then assign it to the new `withdrawal_statement` variable. The withdrawal statement should be: \"Withdrawal of `amount` from your `account_type` was `withdrawal_status`\". \n",
    "\n",
    "##### step 13. Print withdrawal statement\n",
    "On the next line, write a print statement with the `withdrawal_statement` as an argument. This will print the withdrawal statement anytime the deposit function is called. \n",
    "\n",
    "##### step 14. Return savings_balance and checking_balance\n",
    "On the next line return both the `savings_balance` and `checking_balance`. This will conclude the `make_withdrawal()` function."
   ]
  },
  {
   "cell_type": "code",
   "execution_count": 181,
   "metadata": {
    "ExecuteTime": {
     "start_time": "2023-04-11T20:51:16.405122Z",
     "end_time": "2023-04-11T20:51:16.725612Z"
    }
   },
   "outputs": [],
   "source": []
  },
  {
   "cell_type": "markdown",
   "metadata": {},
   "source": [
    "### 11. Call withdrawal function and make a savings withdrawal\n",
    "\n",
    "On the next line, call the `make_withdrawal()` function with these arguments: `\"savings\"`, `11`,`checking_balance` and `savings_balance`. Assign the function call to the matching `checking_balance` and `savings_balance` variables that are also being returned by the function. That is how the new balances are being updated. "
   ]
  },
  {
   "cell_type": "code",
   "execution_count": 181,
   "metadata": {
    "ExecuteTime": {
     "start_time": "2023-04-11T20:51:16.411546Z",
     "end_time": "2023-04-11T20:51:16.727355Z"
    }
   },
   "outputs": [],
   "source": []
  },
  {
   "cell_type": "markdown",
   "metadata": {},
   "source": [
    "### 12. Print savings balance call, after making a savings withdrawal\n",
    "\n",
    "Now that a withdrawal has been made from the savings account, print our savings balance. Call the `check_balance()` function with these arguments; `\"savings\"`, `checking_balance` and `savings_balance` within a print function. Your new savings balance should print. "
   ]
  },
  {
   "cell_type": "code",
   "execution_count": 181,
   "metadata": {
    "ExecuteTime": {
     "start_time": "2023-04-11T20:51:16.419290Z",
     "end_time": "2023-04-11T20:51:16.727355Z"
    }
   },
   "outputs": [],
   "source": []
  },
  {
   "cell_type": "markdown",
   "metadata": {},
   "source": [
    "### 13. Call withdrawal function and make a checking withdrawal\n",
    "\n",
    "On the next line, call the `make_withdrawal()` function with these arguments; `\"checking\"`, `170`,`checking_balance` and `savings_balance`. Assign the function call to the matching `checking_balance` and `savings_balance` variables that are also being returned by the function. That is how the new balances are being updated. "
   ]
  },
  {
   "cell_type": "code",
   "execution_count": 181,
   "metadata": {
    "ExecuteTime": {
     "start_time": "2023-04-11T20:51:16.428483Z",
     "end_time": "2023-04-11T20:51:16.727355Z"
    }
   },
   "outputs": [],
   "source": []
  },
  {
   "cell_type": "markdown",
   "metadata": {},
   "source": [
    "### 14. Print checking balance call, after making a checking withdrawal\n",
    "\n",
    "Now that a withdrawal has been made from the checking account, print our checking balance. Call the `check_balance()` function with these arguments; `\"checking\"`, `checking_balance` and `savings_balance` within a print function. Your new checking balance should print. "
   ]
  },
  {
   "cell_type": "code",
   "execution_count": 181,
   "metadata": {
    "ExecuteTime": {
     "start_time": "2023-04-11T20:51:16.436997Z",
     "end_time": "2023-04-11T20:51:16.727355Z"
    }
   },
   "outputs": [],
   "source": []
  },
  {
   "cell_type": "markdown",
   "metadata": {},
   "source": [
    "### 15. Create a function to make a transfer between accounts\n",
    "\n",
    "##### step 1. define function\n",
    "Define a function named `acc_transfer()` that accepts five parameters `acc_from`, `acc_to`, `amount`, `checking_balance` and `savings_balance`.\n",
    "\n",
    "##### step 2. Initialize transaction_status variable\n",
    "Inside the transfer function, start by creating a variable named `transaction_status` and assign it to a an empty string. \n",
    "\n",
    "##### step 3. Initialize an error message\n",
    "On the next line create a variable named `trans_error` and assign it to the value `\"unsuccessful, please enter amount less than \"` \n",
    "\n",
    "##### step 4. Account Transfer\n",
    "Write `if...elif...else` statements. The `if` statement will check if the transfer is from savings to checking account. The `elif` statement will check if the transfer is from checking to savings account. If neither, throw an error in the else statement.\n",
    "\n",
    "##### step 5. Ensure transfer is less than savings account\n",
    "Within the first `if` statement, write an inner `if...else` that checks if the transfer amount is greater than the savings balance. If the amount is indeed greater, in the else statement, assign `transaction_status` to the variable `trans_error` + `str(savings_balance)`.\n",
    "\n",
    "##### step 6. Transfer amount from savings to checking account\n",
    "Within the inner `if` statement, subtract `amount` from the `savings_balance` using the `-=` assignment operator. On the next line, add `amount` to the `checking_balance` using the `+=` assignment operator. Then on the next line assign the string value `\"successful\"` to the variable `transaction_status`. \n",
    "\n",
    "##### step 7. Ensure transfer is less than checking account\n",
    "Within the following `elif` statement, write an inner `if...else` that checks if the transfer amount is greater than the checking balance. If the amount is indeed greater, in the else statement, assign `transaction_status` to the variable `trans_error` + `str(checking_balance)`.\n",
    "\n",
    "##### step 8. Transfer amount from checking to savings  account\n",
    "Within the inner `if` statement, subtract `amount` from the `checking_balance` using the `-=` assignment operator. On the next line, add `amount` to the `savings_balance` using the `+=` assignment operator. Then on the next line assign the string value `\"successful\"` to the variable `transaction_status`. \n",
    "\n",
    "##### step 9. Assign an error statement if there are no matching account_type\n",
    "Within the last `else` statement, assign the string value `\"unsuccessful, please enter \\\"checking\\\" or \\\"savings\\\"\"` to the variable `transaction_status`.\n",
    "\n",
    "##### step 10. Create a transfer statement\n",
    "Outside of all the `if` statements but still in the function, compose a statement composing of strings and variables used in this function. Then assign it to the new `transaction_statement` variable. The transfer statement should be; \"Transfer of `amount` from your `cc_from` to your `acc_to` account was `transaction_status`\".\n",
    "\n",
    "##### step 11. Print transfer statement\n",
    "On the next line, write a print statement with the `transaction_statement` as an argument. This will print the transfer statement anytime the transfer function is called. \n",
    "\n",
    "##### step 12. Return savings_balance and checking_balance\n",
    "On the next line return both the `savings_balance` and `checking_balance`. This will conclude the `acc_transfer()` function."
   ]
  },
  {
   "cell_type": "code",
   "execution_count": 181,
   "metadata": {
    "ExecuteTime": {
     "start_time": "2023-04-11T20:51:16.444677Z",
     "end_time": "2023-04-11T20:51:16.741546Z"
    }
   },
   "outputs": [],
   "source": []
  },
  {
   "cell_type": "markdown",
   "metadata": {},
   "source": [
    "### 16. Call transfer function and make a checking to savings transfer\n",
    "\n",
    "On the next line, call the `acc_transfer()` function with these arguments; `\"checking\"`, `\"savings\"`, `40`,`checking_balance` and `savings_balance`. Assign the function call to the matching `checking_balance` and `savings_balance` variables that are also being returned by the function. "
   ]
  },
  {
   "cell_type": "code",
   "execution_count": 181,
   "metadata": {
    "ExecuteTime": {
     "start_time": "2023-04-11T20:51:16.451226Z",
     "end_time": "2023-04-11T20:51:16.752982Z"
    }
   },
   "outputs": [],
   "source": []
  },
  {
   "cell_type": "markdown",
   "metadata": {},
   "source": [
    "### 17. Print checking balance after making a checking to savings transfer\n",
    "\n",
    "Now that a transfer has been made from the checking to savings account, print your checking balance. Call the `check_balance()` function with these arguments; `\"checking\"`, `checking_balance` and `savings_balance` within a print function. Your new checking balance should print. "
   ]
  },
  {
   "cell_type": "code",
   "execution_count": 181,
   "metadata": {
    "ExecuteTime": {
     "start_time": "2023-04-11T20:51:16.458877Z",
     "end_time": "2023-04-11T20:51:16.752982Z"
    }
   },
   "outputs": [],
   "source": []
  },
  {
   "cell_type": "markdown",
   "metadata": {},
   "source": [
    "### 18. Print savings balance after making a checking to savings transfer\n",
    "\n",
    "Now that a transfer has been made from the checking to savings account, print your savings balance. Call the `check_balance()` function with these arguments; `\"savings\"`, `checking_balance` and `savings_balance` within a print function. Your new savings balance should print. "
   ]
  },
  {
   "cell_type": "code",
   "execution_count": 181,
   "metadata": {
    "ExecuteTime": {
     "start_time": "2023-04-11T20:51:16.467673Z",
     "end_time": "2023-04-11T20:51:16.754237Z"
    }
   },
   "outputs": [],
   "source": []
  },
  {
   "cell_type": "markdown",
   "metadata": {},
   "source": [
    "### 19. Call transfer function and make a savings to checking transfer\n",
    "\n",
    "On the next line, call the `acc_transfer()` function with these arguments; `\"savings\"`, `\"checking\"`, `5`,`checking_balance` and `savings_balance`. Assign the function call to the matching `checking_balance` and `savings_balance` variables that are also being returned by the function. That is how the new balances are being updated.\n"
   ]
  },
  {
   "cell_type": "code",
   "execution_count": 181,
   "metadata": {
    "ExecuteTime": {
     "start_time": "2023-04-11T20:51:16.477077Z",
     "end_time": "2023-04-11T20:51:16.754237Z"
    }
   },
   "outputs": [],
   "source": []
  },
  {
   "cell_type": "markdown",
   "metadata": {},
   "source": [
    "### 20. Print checking balance after making a savings to checking transfer\n",
    "\n",
    "Now that a transfer has been made from the savings to checking account, print your checking balance. Call the `check_balance()` function with these arguments; `\"checking\"`, `checking_balance` and `savings_balance` within a print function. Your new checking balance should print."
   ]
  },
  {
   "cell_type": "code",
   "execution_count": 181,
   "metadata": {
    "ExecuteTime": {
     "start_time": "2023-04-11T20:51:16.485350Z",
     "end_time": "2023-04-11T20:51:16.754237Z"
    }
   },
   "outputs": [],
   "source": []
  },
  {
   "cell_type": "markdown",
   "metadata": {},
   "source": [
    "### 21. Print saving balance after making a savings to checking transfer\n",
    "\n",
    "Now that a transfer has been made from the savings to checking account, print your saving balance. Call the `check_balance()` function with these arguments; `\"savings\"`, `checking_balance` and `savings_balance` within a print function. Your new saving balance should print."
   ]
  },
  {
   "cell_type": "code",
   "execution_count": 181,
   "metadata": {
    "ExecuteTime": {
     "start_time": "2023-04-11T20:51:16.493834Z",
     "end_time": "2023-04-11T20:51:16.754237Z"
    }
   },
   "outputs": [],
   "source": []
  }
 ],
 "metadata": {
  "kernelspec": {
   "display_name": "Python 3",
   "language": "python",
   "name": "python3"
  },
  "language_info": {
   "codemirror_mode": {
    "name": "ipython",
    "version": 3
   },
   "file_extension": ".py",
   "mimetype": "text/x-python",
   "name": "python",
   "nbconvert_exporter": "python",
   "pygments_lexer": "ipython3",
   "version": "3.6.5"
  },
  "latex_envs": {
   "LaTeX_envs_menu_present": true,
   "autoclose": false,
   "autocomplete": true,
   "bibliofile": "biblio.bib",
   "cite_by": "apalike",
   "current_citInitial": 1,
   "eqLabelWithNumbers": true,
   "eqNumInitial": 1,
   "hotkeys": {
    "equation": "Ctrl-E",
    "itemize": "Ctrl-I"
   },
   "labels_anchors": false,
   "latex_user_defs": false,
   "report_style_numbering": false,
   "user_envs_cfg": false
  }
 },
 "nbformat": 4,
 "nbformat_minor": 2
}
